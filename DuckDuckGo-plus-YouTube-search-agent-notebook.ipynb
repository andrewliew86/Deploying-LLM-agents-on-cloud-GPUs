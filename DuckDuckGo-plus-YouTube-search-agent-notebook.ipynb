{
 "cells": [
  {
   "cell_type": "markdown",
   "metadata": {
    "id": "ypoJgxKk942d"
   },
   "source": [
    "# Introduction\n",
    "\n",
    "Agents use LLMs to interact with other tools in the LangChain ecosystem and also come up with a step-by-step plan to complete your task.\n",
    "\n",
    "We will be creating a basic agent in Langchain using the llama-2 model that can look for webpages (DuckDuckGo search) and YouTube videos (youtube_search) based on a prompt that I provide.\n",
    "\n",
    "The notebook code is based on this tutorial video: https://www.youtube.com/watch?v=biS8G8x8DdA"
   ]
  },
  {
   "cell_type": "code",
   "execution_count": null,
   "metadata": {
    "colab": {
     "base_uri": "https://localhost:8080/"
    },
    "id": "8sGhowPv99h8",
    "outputId": "aa6aa536-d8c5-475c-e499-a3075d9cb57b"
   },
   "outputs": [
    {
     "name": "stdout",
     "output_type": "stream",
     "text": [
      "\u001b[2K     \u001b[90m━━━━━━━━━━━━━━━━━━━━━━━━━━━━━━━━━━━━━━━━\u001b[0m \u001b[32m811.8/811.8 kB\u001b[0m \u001b[31m9.8 MB/s\u001b[0m eta \u001b[36m0:00:00\u001b[0m\n",
      "\u001b[2K     \u001b[90m━━━━━━━━━━━━━━━━━━━━━━━━━━━━━━━━━━━━━━━━\u001b[0m \u001b[32m1.6/1.6 MB\u001b[0m \u001b[31m19.8 MB/s\u001b[0m eta \u001b[36m0:00:00\u001b[0m\n",
      "\u001b[2K     \u001b[90m━━━━━━━━━━━━━━━━━━━━━━━━━━━━━━━━━━━━━━━━\u001b[0m \u001b[32m239.4/239.4 kB\u001b[0m \u001b[31m15.8 MB/s\u001b[0m eta \u001b[36m0:00:00\u001b[0m\n",
      "\u001b[2K     \u001b[90m━━━━━━━━━━━━━━━━━━━━━━━━━━━━━━━━━━━━━━━━\u001b[0m \u001b[32m55.7/55.7 kB\u001b[0m \u001b[31m7.2 MB/s\u001b[0m eta \u001b[36m0:00:00\u001b[0m\n",
      "\u001b[2K     \u001b[90m━━━━━━━━━━━━━━━━━━━━━━━━━━━━━━━━━━━━━━━━\u001b[0m \u001b[32m49.4/49.4 kB\u001b[0m \u001b[31m6.2 MB/s\u001b[0m eta \u001b[36m0:00:00\u001b[0m\n",
      "\u001b[2K     \u001b[90m━━━━━━━━━━━━━━━━━━━━━━━━━━━━━━━━━━━━━━━━\u001b[0m \u001b[32m55.4/55.4 kB\u001b[0m \u001b[31m7.4 MB/s\u001b[0m eta \u001b[36m0:00:00\u001b[0m\n",
      "\u001b[2K     \u001b[90m━━━━━━━━━━━━━━━━━━━━━━━━━━━━━━━━━━━━━━━━\u001b[0m \u001b[32m6.9/6.9 MB\u001b[0m \u001b[31m63.8 MB/s\u001b[0m eta \u001b[36m0:00:00\u001b[0m\n",
      "\u001b[2K     \u001b[90m━━━━━━━━━━━━━━━━━━━━━━━━━━━━━━━━━━━━━━━━\u001b[0m \u001b[32m8.0/8.0 MB\u001b[0m \u001b[31m105.2 MB/s\u001b[0m eta \u001b[36m0:00:00\u001b[0m\n",
      "\u001b[2K     \u001b[90m━━━━━━━━━━━━━━━━━━━━━━━━━━━━━━━━━━━━━━━━\u001b[0m \u001b[32m9.9/9.9 MB\u001b[0m \u001b[31m30.3 MB/s\u001b[0m eta \u001b[36m0:00:00\u001b[0m\n",
      "\u001b[2K     \u001b[90m━━━━━━━━━━━━━━━━━━━━━━━━━━━━━━━━━━━━━━━━\u001b[0m \u001b[32m412.6/412.6 MB\u001b[0m \u001b[31m3.2 MB/s\u001b[0m eta \u001b[36m0:00:00\u001b[0m\n",
      "\u001b[2K     \u001b[90m━━━━━━━━━━━━━━━━━━━━━━━━━━━━━━━━━━━━━━━━\u001b[0m \u001b[32m867.7/867.7 kB\u001b[0m \u001b[31m61.4 MB/s\u001b[0m eta \u001b[36m0:00:00\u001b[0m\n",
      "\u001b[?25h"
     ]
    }
   ],
   "source": [
    "!pip -q install langchain\n",
    "!pip -q install langchainhub\n",
    "!pip -q install duckduckgo-search\n",
    "!pip -q install --upgrade youtube_search\n",
    "!pip -q install python-dotenv\n",
    "!pip -q install ctransformers[cuda]"
   ]
  },
  {
   "cell_type": "markdown",
   "metadata": {
    "id": "vz3N6bjKkFpM"
   },
   "source": [
    "# Import required libraries\n",
    "\n",
    "Please ensure that you add an .env file with a HuggingFace token (HUGGINGFACEHUB_API_TOKEN environmenal variable) if you are using HuggingFace Hub to load your LLM"
   ]
  },
  {
   "cell_type": "code",
   "execution_count": null,
   "metadata": {
    "colab": {
     "base_uri": "https://localhost:8080/"
    },
    "id": "K3TRVSrykDei",
    "outputId": "85828de3-dbb4-4419-b100-ab4d920800f7"
   },
   "outputs": [
    {
     "data": {
      "text/plain": [
       "False"
      ]
     },
     "execution_count": 2,
     "metadata": {},
     "output_type": "execute_result"
    }
   ],
   "source": [
    "from langchain.tools import DuckDuckGoSearchRun\n",
    "from langchain.tools import YouTubeSearchTool\n",
    "from langchain.llms import HuggingFaceHub\n",
    "from langchain import hub\n",
    "from langchain.agents import AgentExecutor, create_react_agent\n",
    "from dotenv import load_dotenv\n",
    "import sys\n",
    "\n",
    "# Load HUGGINGFACEHUB_API_TOKEN environmenal variables (HuggingFace token) from .env file\n",
    "# Uncomment if you use HuggingFace Hub to load your model\n",
    "#load_dotenv()"
   ]
  },
  {
   "cell_type": "markdown",
   "metadata": {
    "id": "b-B2_ScJhvZC"
   },
   "source": [
    "First, test to make sure the DuckDuckGo search and YouTube search from Lancgchain works"
   ]
  },
  {
   "cell_type": "code",
   "execution_count": null,
   "metadata": {
    "colab": {
     "base_uri": "https://localhost:8080/"
    },
    "id": "s_fDWui9_kJE",
    "outputId": "253b0b87-7ed5-418c-d236-ef287211abf7"
   },
   "outputs": [
    {
     "name": "stdout",
     "output_type": "stream",
     "text": [
      "FtsZ is the master cytomotive protein organizer of the divisome in most bacteria. It assembles into polymers at the division plane to form the 'Z ring' 1, which is required for the localization... FtsZ is a tubulin homolog GTPase protein that is widely conserved in bacteria and plays a key role in a complex called divisome, which carries out cell division 1, 2, 3. With GTP, FtsZ... The timing of cell division, and thus cell size in bacteria, is determined in part by the accumulation dynamics of the protein FtsZ, which forms the septal ring. FtsZ localization depends on... Filamenting temperature-sensitive mutant Z (FtsZ) is a crucial bacterial protein that forms a ring-like structure known as the Z-ring, playing a significant role in cell division. Targeting FtsZ is an effective approach for developing antibiotics that disrupt bacterial cell division and halt growth. FtsZ, a bacterial tubulin, plays a crucial role in cytokinesis process. Like tubulin, it also consists of two domains—N-terminal and C-terminal domains. FtsZ assembles to form single-stranded protofilaments that exhibit a dynamic phenomenon known as treadmilling—wherein FtsZ subunits add to one end of the filament, and some dissociate from the other end thereby resulting in an apparent ...\n",
      "['https://www.youtube.com/watch?v=OX10yEOsOWE&pp=ygUKQ2F0IHZpZGVvcw%3D%3D', 'https://www.youtube.com/watch?v=eEduXbd7sMI&pp=ygUKQ2F0IHZpZGVvcw%3D%3D']\n"
     ]
    }
   ],
   "source": [
    "search = DuckDuckGoSearchRun()\n",
    "print(search.run(\"FtsZ protein\"))\n",
    "\n",
    "yt = YouTubeSearchTool()\n",
    "print(yt.run(\"Cat videos\"))"
   ]
  },
  {
   "cell_type": "markdown",
   "metadata": {
    "id": "Mo3QlrUB3iRv"
   },
   "source": [
    "# LLM and tools\n",
    "\n",
    "Here you will:\n",
    "\n",
    "*  Define the LLM\n",
    "*  Add the tools you defined above into a tool list. For each tool list, make sure you add a description of what the tool will be used for. The LLM will use the description you provide to select the best tool to answer your query"
   ]
  },
  {
   "cell_type": "code",
   "execution_count": null,
   "metadata": {
    "id": "_1T2Z_mZ4vHc"
   },
   "outputs": [],
   "source": [
    "from langchain.agents import Tool\n",
    "\n",
    "tools = [\n",
    "    Tool(\n",
    "    name='DuckDuckGo Search',\n",
    "    func= search.run,\n",
    "    description=\"Useful for when you need to do a search websites to find information that another tool can't find. Be specific with your input.\"\n",
    "    ),\n",
    "    Tool(\n",
    "    name='YoutTube Search',\n",
    "    func= yt.run,\n",
    "    description=\"Useful for when you need to do a search for videos. Be specific with your input.\"\n",
    "    ),\n",
    "]"
   ]
  },
  {
   "cell_type": "markdown",
   "metadata": {
    "id": "_Jl8OsViiJL_"
   },
   "source": [
    "## Define LLM\n",
    "\n",
    "Use quantized Llama-13B (GGUF) with ctransformers as the LLM agent"
   ]
  },
  {
   "cell_type": "code",
   "execution_count": null,
   "metadata": {
    "colab": {
     "base_uri": "https://localhost:8080/",
     "height": 141,
     "referenced_widgets": [
      "1a5141c591184575910e1d43d05444ef",
      "9ba58e385bd84f32a81fde53a9bec44c",
      "cda00f5b7ac54ae7b0310639b611cbc2",
      "085aa24ddc8442c7a631d71901c7be4c",
      "625d80d950ee456e825a29e69e7ba198",
      "d6897b6731fe4282abe26905648f02d4",
      "506bc8992e3d4e80af218745551df5b9",
      "5715866cf7954eefb1dd041a2d554d56",
      "3e30614f105e421db830644e738d2dd3",
      "0aa56fc70931441ca91356846ff58e4a",
      "c8160012b66d4e60b11cd9ecd9a802d9",
      "8464934cb01a44fe981cd1ec0fa13930",
      "7341109d03b4466b92f8ee4c566a0c65",
      "36c8472ba44b4efe8b47fabd2b0d6aef",
      "f3da04ea8ea04abfb06db231197399df",
      "f322faa7f47a4184821f6b4d84e31da5",
      "11697cf956034758be8ac487a0159d61",
      "df2f2cd127a2406490a801cd9f23588c",
      "235a4a6043e24a13bd105798e7359740",
      "02a9cf8b54ad411d91d9a926af7f64b4",
      "9d6e86c748c449c5adcf368a0473d96f",
      "192a242670b34835a2818bab017d9d8f",
      "7afc8b33a34e4ab6bbf6d56c25217852",
      "dd99499bb1974cb39ce6c58a610e8872",
      "4f797f941b44426a9fa3785a104909ac",
      "cdec13371910406db601d633fde977ef",
      "3d5d245134bd4a378ea90c2031fb7e56",
      "71180203082c4d2191539694de7ea752",
      "54b8fcfbfc7b4fb68fe3c2d28d4ea835",
      "aebb8325d6bd4fc2bbc9f983855eacb4",
      "5baebe5c731742e1a541e70764757ee8",
      "5d2520cfa7484a10b9be1eb0016bd420",
      "2394d0dce5964ab0acc8ed55bbdd92ca"
     ]
    },
    "id": "fdiTbSzJoT_p",
    "outputId": "ed741ba7-5afb-48bc-d443-b1332af0afeb"
   },
   "outputs": [
    {
     "data": {
      "application/vnd.jupyter.widget-view+json": {
       "model_id": "1a5141c591184575910e1d43d05444ef",
       "version_major": 2,
       "version_minor": 0
      },
      "text/plain": [
       "Fetching 1 files:   0%|          | 0/1 [00:00<?, ?it/s]"
      ]
     },
     "metadata": {},
     "output_type": "display_data"
    },
    {
     "data": {
      "application/vnd.jupyter.widget-view+json": {
       "model_id": "8464934cb01a44fe981cd1ec0fa13930",
       "version_major": 2,
       "version_minor": 0
      },
      "text/plain": [
       "Fetching 1 files:   0%|          | 0/1 [00:00<?, ?it/s]"
      ]
     },
     "metadata": {},
     "output_type": "display_data"
    },
    {
     "data": {
      "application/vnd.jupyter.widget-view+json": {
       "model_id": "7afc8b33a34e4ab6bbf6d56c25217852",
       "version_major": 2,
       "version_minor": 0
      },
      "text/plain": [
       "llama-2-13b-chat.Q5_K_S.gguf:   0%|          | 0.00/8.97G [00:00<?, ?B/s]"
      ]
     },
     "metadata": {},
     "output_type": "display_data"
    }
   ],
   "source": [
    "#from langchain.llms import LlamaCpp\n",
    "from langchain_community.llms import CTransformers\n",
    "\n",
    "# gpu_layers is meant to tell you how many layers to offload to GPU. Put a high number to load all of them to GPU\n",
    "# context_length 4096 indicates max context length\n",
    "config = {'max_new_tokens': 4096,\n",
    "          'repetition_penalty': 1.1,\n",
    "          'gpu_layers':50,\n",
    "          'context_length' : 4096}\n",
    "\n",
    "# Model file is the specific qunatization type that was done 2-bit, 3 bit etc... GGML_TYPE_Q2_K, GGML_TYPE_Q3_K etc...\n",
    "# See example model files here: https://huggingface.co/TheBloke/Llama-2-13B-chat-GGUF#provided-files\n",
    "llm = CTransformers(model=\"TheBloke/Llama-2-13B-chat-GGUF\", model_file=\"llama-2-13b-chat.Q5_K_S.gguf\", model_type=\"llama\", config=config)"
   ]
  },
  {
   "cell_type": "markdown",
   "metadata": {
    "id": "YtyIsADkjyV5"
   },
   "source": [
    "In case you want to use Zephyr 7B or something else from HuggingFaceHub"
   ]
  },
  {
   "cell_type": "code",
   "execution_count": null,
   "metadata": {
    "id": "_4nmC8DZoAdk"
   },
   "outputs": [],
   "source": [
    "#repo_id = \"HuggingFaceH4/zephyr-7b-beta\"\n",
    "#llm = HuggingFaceHub(repo_id=repo_id, model_kwargs={\"temperature\":0.2, \"max_new_tokens\":4000})"
   ]
  },
  {
   "cell_type": "markdown",
   "metadata": {
    "id": "Q66NZx7UFNff"
   },
   "source": [
    "## Using the agents"
   ]
  },
  {
   "cell_type": "code",
   "execution_count": null,
   "metadata": {
    "colab": {
     "base_uri": "https://localhost:8080/"
    },
    "id": "4aItf8wTmA50",
    "outputId": "ac3879b3-8557-4630-8a35-5cc2aa69916d"
   },
   "outputs": [
    {
     "name": "stdout",
     "output_type": "stream",
     "text": [
      "input_variables=['agent_scratchpad', 'input', 'tool_names', 'tools'] template='Answer the following questions as best you can. You have access to the following tools:\\n\\n{tools}\\n\\nUse the following format:\\n\\nQuestion: the input question you must answer\\nThought: you should always think about what to do\\nAction: the action to take, should be one of [{tool_names}]\\nAction Input: the input to the action\\nObservation: the result of the action\\n... (this Thought/Action/Action Input/Observation can repeat N times)\\nThought: I now know the final answer\\nFinal Answer: the final answer to the original input question\\n\\nBegin!\\n\\nQuestion: {input}\\nThought:{agent_scratchpad}'\n"
     ]
    }
   ],
   "source": [
    "# Get the prompt to use - you can modify this!\n",
    "prompt = hub.pull(\"hwchase17/react\")\n",
    "\n",
    "# Check prompt\n",
    "print(prompt)\n",
    "\n",
    "# Construct the ReAct agent\n",
    "agent = create_react_agent(llm, tools, prompt)"
   ]
  },
  {
   "cell_type": "markdown",
   "metadata": {
    "id": "oZMF947DjpYu"
   },
   "source": [
    "# Run chain\n",
    "\n",
    "Try something simple like 'what is Langchain?'"
   ]
  },
  {
   "cell_type": "code",
   "execution_count": null,
   "metadata": {
    "colab": {
     "base_uri": "https://localhost:8080/"
    },
    "id": "XGY2zKFmmeUI",
    "outputId": "1b543a3a-eeaa-4ca0-f598-422fdfb902cd"
   },
   "outputs": [
    {
     "name": "stdout",
     "output_type": "stream",
     "text": [
      "\n",
      "\n",
      "\u001b[1m> Entering new AgentExecutor chain...\u001b[0m\n",
      "\u001b[32;1m\u001b[1;3m maybe search duckduckgo for \"LangChain\"\n",
      "Action: DuckDuckGo Search\n",
      "Action Input: \"LangChain\"\u001b[0m\u001b[36;1m\u001b[1;3mLangChain is a framework for developing applications powered by language models, such as large language models (LLMs) and prompt engineering. Learn the basics of LangChain, its background, tech stack, and how to use it in Java with LangChain4j. Langchain is a tool that simplifies the creation of applications using large language models (LLMs) such as GPT-4. It provides a standard interface for chains, lots of integrations with other tools, and end-to-end chains for common applications. Learn how to install, use, and apply Langchain with Python and JavaScript. LangChain is a framework for creating applications that leverage the capabilities of language models. Learn how to install, set up, and use LangChain modules, such as Model I/O, Retrieval, Agents, Chains, Memory, and LangSmith. Explore common use cases and deploy with LangServe. LangChain is a Python and JavaScript library that helps you create and manage long-lived, interactive, and composable dialogues with language models. Learn about the latest version 0.1.0, its features, integrations, and improvements. LangChain is a Python package that helps developers create context-aware reasoning applications with language models. It has three main parts: langchain-core, langchain-community, and langchain. The core part contains simple and modular abstractions, the expression language, and the expression language runtime. The community part contains third party integrations and the higher-level and use-case specific chains, agents, and retrieval algorithms.\u001b[0m\u001b[32;1m\u001b[1;3m This answer does not seem to be a direct answer to my question. Maybe search YouTube for \"LangChain tutorial\"\n",
      "Action: YoutTube Search\n",
      "Action Input: \"LangChain tutorial\"\u001b[0m\u001b[33;1m\u001b[1;3m['https://www.youtube.com/watch?v=aywZrzNaKjs&pp=ygUSTGFuZ0NoYWluIHR1dG9yaWFs', 'https://www.youtube.com/watch?v=lG7Uxts9SXs&pp=ygUSTGFuZ0NoYWluIHR1dG9yaWFs']\u001b[0m\u001b[32;1m\u001b[1;3m This video tutorial seems to be a good starting point for learning about LangChain.\n",
      "Final Answer: The final answer to the question \"what is LangChain\" is that it is a framework for developing applications powered by language models, such as large language models (LLMs) and prompt engineering. It provides a standard interface for chains, lots of integrations with other tools, and end-to-end chains for common applications.\u001b[0m\n",
      "\n",
      "\u001b[1m> Finished chain.\u001b[0m\n"
     ]
    },
    {
     "data": {
      "text/plain": [
       "{'input': 'what is LangChain?',\n",
       " 'output': 'The final answer to the question \"what is LangChain\" is that it is a framework for developing applications powered by language models, such as large language models (LLMs) and prompt engineering. It provides a standard interface for chains, lots of integrations with other tools, and end-to-end chains for common applications.'}"
      ]
     },
     "execution_count": 11,
     "metadata": {},
     "output_type": "execute_result"
    }
   ],
   "source": [
    "# Create an agent executor by passing in the agent and tools\n",
    "agent_executor = AgentExecutor(agent=agent,\n",
    "                               tools=tools,\n",
    "                               verbose=True,\n",
    "                               max_iterations=3,\n",
    "                               handle_parsing_errors=True)\n",
    "\n",
    "agent_executor.invoke({\"input\": \"what is LangChain?\"})"
   ]
  },
  {
   "cell_type": "markdown",
   "metadata": {
    "id": "INrjrlKpkXC9"
   },
   "source": [
    "Try getting cat videos from YouTube"
   ]
  },
  {
   "cell_type": "code",
   "execution_count": null,
   "metadata": {
    "colab": {
     "base_uri": "https://localhost:8080/"
    },
    "id": "jbH5xGIKkB6E",
    "outputId": "93abdc99-d7ab-48c8-d0c8-25a409c58f31"
   },
   "outputs": [
    {
     "name": "stdout",
     "output_type": "stream",
     "text": [
      "\n",
      "\n",
      "\u001b[1m> Entering new AgentExecutor chain...\u001b[0m\n",
      "\u001b[32;1m\u001b[1;3m Hmm, I wonder if there are any websites that have a collection of funny cat videos.\n",
      "Action: YoutTube Search\n",
      "Action Input: \"funny cat videos\"\u001b[0m\u001b[33;1m\u001b[1;3m['https://www.youtube.com/watch?v=OX10yEOsOWE&pp=ygUQZnVubnkgY2F0IHZpZGVvcw%3D%3D', 'https://www.youtube.com/watch?v=CoqYVImPwuE&pp=ygUQZnVubnkgY2F0IHZpZGVvcw%3D%3D']\u001b[0m\u001b[32;1m\u001b[1;3m These look like great videos, but I want to see more!\n",
      "Action: YoutTube Search\n",
      "Action Input: \"funny cats compilations\"\u001b[0m\u001b[33;1m\u001b[1;3m['https://www.youtube.com/watch?v=JxS5E-kZc2s&pp=ygUXZnVubnkgY2F0cyBjb21waWxhdGlvbnM%3D', 'https://www.youtube.com/watch?v=N8siuNjyV7A&pp=ygUXZnVubnkgY2F0cyBjb21waWxhdGlvbnM%3D']\u001b[0m\u001b[32;1m\u001b[1;3m These are great, but I want to see more variety!\n",
      "Action: YoutTube Search\n",
      "Action Input: \"funny cat videos different breeds\"\u001b[0m\u001b[33;1m\u001b[1;3m['https://www.youtube.com/watch?v=eEduXbd7sMI&pp=ygUhZnVubnkgY2F0IHZpZGVvcyBkaWZmZXJlbnQgYnJlZWRz', 'https://www.youtube.com/watch?v=ywSFaeSEQIU&pp=ygUhZnVubnkgY2F0IHZpZGVvcyBkaWZmZXJlbnQgYnJlZWRz']\u001b[0m\u001b[32;1m\u001b[1;3m\u001b[0m\n",
      "\n",
      "\u001b[1m> Finished chain.\u001b[0m\n"
     ]
    },
    {
     "data": {
      "text/plain": [
       "{'input': 'Give me two links to YouTube videos of cute cats',\n",
       " 'output': 'Agent stopped due to iteration limit or time limit.'}"
      ]
     },
     "execution_count": 16,
     "metadata": {},
     "output_type": "execute_result"
    }
   ],
   "source": [
    "agent_executor.invoke({\"input\": \"Give me two links to YouTube videos of cute cats\"})"
   ]
  },
  {
   "cell_type": "markdown",
   "metadata": {
    "id": "gQRHZd7xsLUE"
   },
   "source": [
    "What about something something scientific related to a cell division protein called FtsZ?"
   ]
  },
  {
   "cell_type": "code",
   "execution_count": null,
   "metadata": {
    "colab": {
     "base_uri": "https://localhost:8080/"
    },
    "id": "HEgzMx94nrmZ",
    "outputId": "2628d05a-b0e2-48e7-da37-af8073b5ab43"
   },
   "outputs": [
    {
     "name": "stdout",
     "output_type": "stream",
     "text": [
      "\n",
      "\n",
      "\u001b[1m> Entering new AgentExecutor chain...\u001b[0m\n",
      "\u001b[32;1m\u001b[1;3m Hmm, I'm not sure what FtsZ is. Let me search for it on YouTube.\n",
      "Action: YoutTube Search\n",
      "Action Input: FtsZ\u001b[0m\u001b[33;1m\u001b[1;3m['https://www.youtube.com/watch?v=SQ4nhZnONl8&pp=ygUERnRzWg%3D%3D', 'https://www.youtube.com/watch?v=IzKoIp08Pa4&pp=ygUERnRzWg%3D%3D']\u001b[0m\u001b[32;1m\u001b[1;3m Hmm, there are several videos about FtsZ. Let me check the first one.\n",
      "Action: YoutTube Search\n",
      "Action Input: SQ4nhZnONl8\u001b[0m\u001b[33;1m\u001b[1;3m['https://www.youtube.com/watch?v=SQ4nhZnONl8&pp=ygULU1E0bmhabk9ObDg%3D', 'https://www.youtube.com/shorts/bcNzAFtwZ7E']\u001b[0m\u001b[32;1m\u001b[1;3m These videos are talking about FtsZ as a protein that is essential for bacterial cell division. It seems to be an important topic in microbiology.\n",
      "Action: DuckDuckGo Search\n",
      "Action Input: FtsZ bacteria microbiology importance\u001b[0m\u001b[36;1m\u001b[1;3mFtsZ is the master cytomotive protein organizer of the divisome in most bacteria. It assembles into polymers at the division plane to form the 'Z ring' 1, which is required for the localization... The timing of cell division, and thus cell size in bacteria, is determined in part by the accumulation dynamics of the protein FtsZ, which forms the septal ring. FtsZ localization depends on... FtsZ, a bacterial tubulin, plays a crucial role in cytokinesis process. Like tubulin, it also consists of two domains—N-terminal and C-terminal domains. FtsZ is highly conserved across all bacteria and is also found in other domains of life, such as plants and archaea ( Ithurbide et al., 2022 ). The N-terminal domain binds GTP, while the C-terminal domain contains the T7 loop with highly conserved amino acids critical for GTP hydrolysis. Filamenting temperature-sensitive mutant Z (FtsZ) is a crucial bacterial protein that forms a ring-like structure known as the Z-ring, playing a significant role in cell division. Targeting FtsZ is an effective approach for developing antibiotics that disrupt bacterial cell division and halt growth.\u001b[0m\u001b[32;1m\u001b[1;3m\u001b[0m\n",
      "\n",
      "\u001b[1m> Finished chain.\u001b[0m\n"
     ]
    },
    {
     "data": {
      "text/plain": [
       "{'input': 'What is FtsZ and what are some videos related to FtsZ?',\n",
       " 'output': 'Agent stopped due to iteration limit or time limit.'}"
      ]
     },
     "execution_count": 13,
     "metadata": {},
     "output_type": "execute_result"
    }
   ],
   "source": [
    "agent_executor.invoke({\"input\": \"What is FtsZ and what are some videos related to FtsZ?\"})"
   ]
  },
  {
   "cell_type": "markdown",
   "metadata": {},
   "source": [
    "You can see that it has used both DuckDuckGo search and YouTube to complete my query"
   ]
  },
  {
   "cell_type": "code",
   "execution_count": null,
   "metadata": {},
   "outputs": [],
   "source": []
  }
 ],
 "metadata": {
  "accelerator": "GPU",
  "colab": {
   "gpuType": "T4",
   "provenance": []
  },
  "kernelspec": {
   "display_name": "Python 3 (ipykernel)",
   "language": "python",
   "name": "python3"
  },
  "language_info": {
   "codemirror_mode": {
    "name": "ipython",
    "version": 3
   },
   "file_extension": ".py",
   "mimetype": "text/x-python",
   "name": "python",
   "nbconvert_exporter": "python",
   "pygments_lexer": "ipython3",
   "version": "3.11.5"
  },
  "widgets": {
   "application/vnd.jupyter.widget-state+json": {
    "02a9cf8b54ad411d91d9a926af7f64b4": {
     "model_module": "@jupyter-widgets/controls",
     "model_module_version": "1.5.0",
     "model_name": "ProgressStyleModel",
     "state": {
      "_model_module": "@jupyter-widgets/controls",
      "_model_module_version": "1.5.0",
      "_model_name": "ProgressStyleModel",
      "_view_count": null,
      "_view_module": "@jupyter-widgets/base",
      "_view_module_version": "1.2.0",
      "_view_name": "StyleView",
      "bar_color": null,
      "description_width": ""
     }
    },
    "085aa24ddc8442c7a631d71901c7be4c": {
     "model_module": "@jupyter-widgets/controls",
     "model_module_version": "1.5.0",
     "model_name": "HTMLModel",
     "state": {
      "_dom_classes": [],
      "_model_module": "@jupyter-widgets/controls",
      "_model_module_version": "1.5.0",
      "_model_name": "HTMLModel",
      "_view_count": null,
      "_view_module": "@jupyter-widgets/controls",
      "_view_module_version": "1.5.0",
      "_view_name": "HTMLView",
      "description": "",
      "description_tooltip": null,
      "layout": "IPY_MODEL_0aa56fc70931441ca91356846ff58e4a",
      "placeholder": "​",
      "style": "IPY_MODEL_c8160012b66d4e60b11cd9ecd9a802d9",
      "value": " 1/1 [00:00&lt;00:00, 37.10it/s]"
     }
    },
    "0aa56fc70931441ca91356846ff58e4a": {
     "model_module": "@jupyter-widgets/base",
     "model_module_version": "1.2.0",
     "model_name": "LayoutModel",
     "state": {
      "_model_module": "@jupyter-widgets/base",
      "_model_module_version": "1.2.0",
      "_model_name": "LayoutModel",
      "_view_count": null,
      "_view_module": "@jupyter-widgets/base",
      "_view_module_version": "1.2.0",
      "_view_name": "LayoutView",
      "align_content": null,
      "align_items": null,
      "align_self": null,
      "border": null,
      "bottom": null,
      "display": null,
      "flex": null,
      "flex_flow": null,
      "grid_area": null,
      "grid_auto_columns": null,
      "grid_auto_flow": null,
      "grid_auto_rows": null,
      "grid_column": null,
      "grid_gap": null,
      "grid_row": null,
      "grid_template_areas": null,
      "grid_template_columns": null,
      "grid_template_rows": null,
      "height": null,
      "justify_content": null,
      "justify_items": null,
      "left": null,
      "margin": null,
      "max_height": null,
      "max_width": null,
      "min_height": null,
      "min_width": null,
      "object_fit": null,
      "object_position": null,
      "order": null,
      "overflow": null,
      "overflow_x": null,
      "overflow_y": null,
      "padding": null,
      "right": null,
      "top": null,
      "visibility": null,
      "width": null
     }
    },
    "11697cf956034758be8ac487a0159d61": {
     "model_module": "@jupyter-widgets/base",
     "model_module_version": "1.2.0",
     "model_name": "LayoutModel",
     "state": {
      "_model_module": "@jupyter-widgets/base",
      "_model_module_version": "1.2.0",
      "_model_name": "LayoutModel",
      "_view_count": null,
      "_view_module": "@jupyter-widgets/base",
      "_view_module_version": "1.2.0",
      "_view_name": "LayoutView",
      "align_content": null,
      "align_items": null,
      "align_self": null,
      "border": null,
      "bottom": null,
      "display": null,
      "flex": null,
      "flex_flow": null,
      "grid_area": null,
      "grid_auto_columns": null,
      "grid_auto_flow": null,
      "grid_auto_rows": null,
      "grid_column": null,
      "grid_gap": null,
      "grid_row": null,
      "grid_template_areas": null,
      "grid_template_columns": null,
      "grid_template_rows": null,
      "height": null,
      "justify_content": null,
      "justify_items": null,
      "left": null,
      "margin": null,
      "max_height": null,
      "max_width": null,
      "min_height": null,
      "min_width": null,
      "object_fit": null,
      "object_position": null,
      "order": null,
      "overflow": null,
      "overflow_x": null,
      "overflow_y": null,
      "padding": null,
      "right": null,
      "top": null,
      "visibility": null,
      "width": null
     }
    },
    "192a242670b34835a2818bab017d9d8f": {
     "model_module": "@jupyter-widgets/controls",
     "model_module_version": "1.5.0",
     "model_name": "DescriptionStyleModel",
     "state": {
      "_model_module": "@jupyter-widgets/controls",
      "_model_module_version": "1.5.0",
      "_model_name": "DescriptionStyleModel",
      "_view_count": null,
      "_view_module": "@jupyter-widgets/base",
      "_view_module_version": "1.2.0",
      "_view_name": "StyleView",
      "description_width": ""
     }
    },
    "1a5141c591184575910e1d43d05444ef": {
     "model_module": "@jupyter-widgets/controls",
     "model_module_version": "1.5.0",
     "model_name": "HBoxModel",
     "state": {
      "_dom_classes": [],
      "_model_module": "@jupyter-widgets/controls",
      "_model_module_version": "1.5.0",
      "_model_name": "HBoxModel",
      "_view_count": null,
      "_view_module": "@jupyter-widgets/controls",
      "_view_module_version": "1.5.0",
      "_view_name": "HBoxView",
      "box_style": "",
      "children": [
       "IPY_MODEL_9ba58e385bd84f32a81fde53a9bec44c",
       "IPY_MODEL_cda00f5b7ac54ae7b0310639b611cbc2",
       "IPY_MODEL_085aa24ddc8442c7a631d71901c7be4c"
      ],
      "layout": "IPY_MODEL_625d80d950ee456e825a29e69e7ba198"
     }
    },
    "235a4a6043e24a13bd105798e7359740": {
     "model_module": "@jupyter-widgets/base",
     "model_module_version": "1.2.0",
     "model_name": "LayoutModel",
     "state": {
      "_model_module": "@jupyter-widgets/base",
      "_model_module_version": "1.2.0",
      "_model_name": "LayoutModel",
      "_view_count": null,
      "_view_module": "@jupyter-widgets/base",
      "_view_module_version": "1.2.0",
      "_view_name": "LayoutView",
      "align_content": null,
      "align_items": null,
      "align_self": null,
      "border": null,
      "bottom": null,
      "display": null,
      "flex": null,
      "flex_flow": null,
      "grid_area": null,
      "grid_auto_columns": null,
      "grid_auto_flow": null,
      "grid_auto_rows": null,
      "grid_column": null,
      "grid_gap": null,
      "grid_row": null,
      "grid_template_areas": null,
      "grid_template_columns": null,
      "grid_template_rows": null,
      "height": null,
      "justify_content": null,
      "justify_items": null,
      "left": null,
      "margin": null,
      "max_height": null,
      "max_width": null,
      "min_height": null,
      "min_width": null,
      "object_fit": null,
      "object_position": null,
      "order": null,
      "overflow": null,
      "overflow_x": null,
      "overflow_y": null,
      "padding": null,
      "right": null,
      "top": null,
      "visibility": null,
      "width": null
     }
    },
    "2394d0dce5964ab0acc8ed55bbdd92ca": {
     "model_module": "@jupyter-widgets/controls",
     "model_module_version": "1.5.0",
     "model_name": "DescriptionStyleModel",
     "state": {
      "_model_module": "@jupyter-widgets/controls",
      "_model_module_version": "1.5.0",
      "_model_name": "DescriptionStyleModel",
      "_view_count": null,
      "_view_module": "@jupyter-widgets/base",
      "_view_module_version": "1.2.0",
      "_view_name": "StyleView",
      "description_width": ""
     }
    },
    "36c8472ba44b4efe8b47fabd2b0d6aef": {
     "model_module": "@jupyter-widgets/controls",
     "model_module_version": "1.5.0",
     "model_name": "FloatProgressModel",
     "state": {
      "_dom_classes": [],
      "_model_module": "@jupyter-widgets/controls",
      "_model_module_version": "1.5.0",
      "_model_name": "FloatProgressModel",
      "_view_count": null,
      "_view_module": "@jupyter-widgets/controls",
      "_view_module_version": "1.5.0",
      "_view_name": "ProgressView",
      "bar_style": "success",
      "description": "",
      "description_tooltip": null,
      "layout": "IPY_MODEL_235a4a6043e24a13bd105798e7359740",
      "max": 1,
      "min": 0,
      "orientation": "horizontal",
      "style": "IPY_MODEL_02a9cf8b54ad411d91d9a926af7f64b4",
      "value": 1
     }
    },
    "3d5d245134bd4a378ea90c2031fb7e56": {
     "model_module": "@jupyter-widgets/base",
     "model_module_version": "1.2.0",
     "model_name": "LayoutModel",
     "state": {
      "_model_module": "@jupyter-widgets/base",
      "_model_module_version": "1.2.0",
      "_model_name": "LayoutModel",
      "_view_count": null,
      "_view_module": "@jupyter-widgets/base",
      "_view_module_version": "1.2.0",
      "_view_name": "LayoutView",
      "align_content": null,
      "align_items": null,
      "align_self": null,
      "border": null,
      "bottom": null,
      "display": null,
      "flex": null,
      "flex_flow": null,
      "grid_area": null,
      "grid_auto_columns": null,
      "grid_auto_flow": null,
      "grid_auto_rows": null,
      "grid_column": null,
      "grid_gap": null,
      "grid_row": null,
      "grid_template_areas": null,
      "grid_template_columns": null,
      "grid_template_rows": null,
      "height": null,
      "justify_content": null,
      "justify_items": null,
      "left": null,
      "margin": null,
      "max_height": null,
      "max_width": null,
      "min_height": null,
      "min_width": null,
      "object_fit": null,
      "object_position": null,
      "order": null,
      "overflow": null,
      "overflow_x": null,
      "overflow_y": null,
      "padding": null,
      "right": null,
      "top": null,
      "visibility": null,
      "width": null
     }
    },
    "3e30614f105e421db830644e738d2dd3": {
     "model_module": "@jupyter-widgets/controls",
     "model_module_version": "1.5.0",
     "model_name": "ProgressStyleModel",
     "state": {
      "_model_module": "@jupyter-widgets/controls",
      "_model_module_version": "1.5.0",
      "_model_name": "ProgressStyleModel",
      "_view_count": null,
      "_view_module": "@jupyter-widgets/base",
      "_view_module_version": "1.2.0",
      "_view_name": "StyleView",
      "bar_color": null,
      "description_width": ""
     }
    },
    "4f797f941b44426a9fa3785a104909ac": {
     "model_module": "@jupyter-widgets/controls",
     "model_module_version": "1.5.0",
     "model_name": "FloatProgressModel",
     "state": {
      "_dom_classes": [],
      "_model_module": "@jupyter-widgets/controls",
      "_model_module_version": "1.5.0",
      "_model_name": "FloatProgressModel",
      "_view_count": null,
      "_view_module": "@jupyter-widgets/controls",
      "_view_module_version": "1.5.0",
      "_view_name": "ProgressView",
      "bar_style": "success",
      "description": "",
      "description_tooltip": null,
      "layout": "IPY_MODEL_aebb8325d6bd4fc2bbc9f983855eacb4",
      "max": 8972285824,
      "min": 0,
      "orientation": "horizontal",
      "style": "IPY_MODEL_5baebe5c731742e1a541e70764757ee8",
      "value": 8972285824
     }
    },
    "506bc8992e3d4e80af218745551df5b9": {
     "model_module": "@jupyter-widgets/controls",
     "model_module_version": "1.5.0",
     "model_name": "DescriptionStyleModel",
     "state": {
      "_model_module": "@jupyter-widgets/controls",
      "_model_module_version": "1.5.0",
      "_model_name": "DescriptionStyleModel",
      "_view_count": null,
      "_view_module": "@jupyter-widgets/base",
      "_view_module_version": "1.2.0",
      "_view_name": "StyleView",
      "description_width": ""
     }
    },
    "54b8fcfbfc7b4fb68fe3c2d28d4ea835": {
     "model_module": "@jupyter-widgets/controls",
     "model_module_version": "1.5.0",
     "model_name": "DescriptionStyleModel",
     "state": {
      "_model_module": "@jupyter-widgets/controls",
      "_model_module_version": "1.5.0",
      "_model_name": "DescriptionStyleModel",
      "_view_count": null,
      "_view_module": "@jupyter-widgets/base",
      "_view_module_version": "1.2.0",
      "_view_name": "StyleView",
      "description_width": ""
     }
    },
    "5715866cf7954eefb1dd041a2d554d56": {
     "model_module": "@jupyter-widgets/base",
     "model_module_version": "1.2.0",
     "model_name": "LayoutModel",
     "state": {
      "_model_module": "@jupyter-widgets/base",
      "_model_module_version": "1.2.0",
      "_model_name": "LayoutModel",
      "_view_count": null,
      "_view_module": "@jupyter-widgets/base",
      "_view_module_version": "1.2.0",
      "_view_name": "LayoutView",
      "align_content": null,
      "align_items": null,
      "align_self": null,
      "border": null,
      "bottom": null,
      "display": null,
      "flex": null,
      "flex_flow": null,
      "grid_area": null,
      "grid_auto_columns": null,
      "grid_auto_flow": null,
      "grid_auto_rows": null,
      "grid_column": null,
      "grid_gap": null,
      "grid_row": null,
      "grid_template_areas": null,
      "grid_template_columns": null,
      "grid_template_rows": null,
      "height": null,
      "justify_content": null,
      "justify_items": null,
      "left": null,
      "margin": null,
      "max_height": null,
      "max_width": null,
      "min_height": null,
      "min_width": null,
      "object_fit": null,
      "object_position": null,
      "order": null,
      "overflow": null,
      "overflow_x": null,
      "overflow_y": null,
      "padding": null,
      "right": null,
      "top": null,
      "visibility": null,
      "width": null
     }
    },
    "5baebe5c731742e1a541e70764757ee8": {
     "model_module": "@jupyter-widgets/controls",
     "model_module_version": "1.5.0",
     "model_name": "ProgressStyleModel",
     "state": {
      "_model_module": "@jupyter-widgets/controls",
      "_model_module_version": "1.5.0",
      "_model_name": "ProgressStyleModel",
      "_view_count": null,
      "_view_module": "@jupyter-widgets/base",
      "_view_module_version": "1.2.0",
      "_view_name": "StyleView",
      "bar_color": null,
      "description_width": ""
     }
    },
    "5d2520cfa7484a10b9be1eb0016bd420": {
     "model_module": "@jupyter-widgets/base",
     "model_module_version": "1.2.0",
     "model_name": "LayoutModel",
     "state": {
      "_model_module": "@jupyter-widgets/base",
      "_model_module_version": "1.2.0",
      "_model_name": "LayoutModel",
      "_view_count": null,
      "_view_module": "@jupyter-widgets/base",
      "_view_module_version": "1.2.0",
      "_view_name": "LayoutView",
      "align_content": null,
      "align_items": null,
      "align_self": null,
      "border": null,
      "bottom": null,
      "display": null,
      "flex": null,
      "flex_flow": null,
      "grid_area": null,
      "grid_auto_columns": null,
      "grid_auto_flow": null,
      "grid_auto_rows": null,
      "grid_column": null,
      "grid_gap": null,
      "grid_row": null,
      "grid_template_areas": null,
      "grid_template_columns": null,
      "grid_template_rows": null,
      "height": null,
      "justify_content": null,
      "justify_items": null,
      "left": null,
      "margin": null,
      "max_height": null,
      "max_width": null,
      "min_height": null,
      "min_width": null,
      "object_fit": null,
      "object_position": null,
      "order": null,
      "overflow": null,
      "overflow_x": null,
      "overflow_y": null,
      "padding": null,
      "right": null,
      "top": null,
      "visibility": null,
      "width": null
     }
    },
    "625d80d950ee456e825a29e69e7ba198": {
     "model_module": "@jupyter-widgets/base",
     "model_module_version": "1.2.0",
     "model_name": "LayoutModel",
     "state": {
      "_model_module": "@jupyter-widgets/base",
      "_model_module_version": "1.2.0",
      "_model_name": "LayoutModel",
      "_view_count": null,
      "_view_module": "@jupyter-widgets/base",
      "_view_module_version": "1.2.0",
      "_view_name": "LayoutView",
      "align_content": null,
      "align_items": null,
      "align_self": null,
      "border": null,
      "bottom": null,
      "display": null,
      "flex": null,
      "flex_flow": null,
      "grid_area": null,
      "grid_auto_columns": null,
      "grid_auto_flow": null,
      "grid_auto_rows": null,
      "grid_column": null,
      "grid_gap": null,
      "grid_row": null,
      "grid_template_areas": null,
      "grid_template_columns": null,
      "grid_template_rows": null,
      "height": null,
      "justify_content": null,
      "justify_items": null,
      "left": null,
      "margin": null,
      "max_height": null,
      "max_width": null,
      "min_height": null,
      "min_width": null,
      "object_fit": null,
      "object_position": null,
      "order": null,
      "overflow": null,
      "overflow_x": null,
      "overflow_y": null,
      "padding": null,
      "right": null,
      "top": null,
      "visibility": null,
      "width": null
     }
    },
    "71180203082c4d2191539694de7ea752": {
     "model_module": "@jupyter-widgets/base",
     "model_module_version": "1.2.0",
     "model_name": "LayoutModel",
     "state": {
      "_model_module": "@jupyter-widgets/base",
      "_model_module_version": "1.2.0",
      "_model_name": "LayoutModel",
      "_view_count": null,
      "_view_module": "@jupyter-widgets/base",
      "_view_module_version": "1.2.0",
      "_view_name": "LayoutView",
      "align_content": null,
      "align_items": null,
      "align_self": null,
      "border": null,
      "bottom": null,
      "display": null,
      "flex": null,
      "flex_flow": null,
      "grid_area": null,
      "grid_auto_columns": null,
      "grid_auto_flow": null,
      "grid_auto_rows": null,
      "grid_column": null,
      "grid_gap": null,
      "grid_row": null,
      "grid_template_areas": null,
      "grid_template_columns": null,
      "grid_template_rows": null,
      "height": null,
      "justify_content": null,
      "justify_items": null,
      "left": null,
      "margin": null,
      "max_height": null,
      "max_width": null,
      "min_height": null,
      "min_width": null,
      "object_fit": null,
      "object_position": null,
      "order": null,
      "overflow": null,
      "overflow_x": null,
      "overflow_y": null,
      "padding": null,
      "right": null,
      "top": null,
      "visibility": null,
      "width": null
     }
    },
    "7341109d03b4466b92f8ee4c566a0c65": {
     "model_module": "@jupyter-widgets/controls",
     "model_module_version": "1.5.0",
     "model_name": "HTMLModel",
     "state": {
      "_dom_classes": [],
      "_model_module": "@jupyter-widgets/controls",
      "_model_module_version": "1.5.0",
      "_model_name": "HTMLModel",
      "_view_count": null,
      "_view_module": "@jupyter-widgets/controls",
      "_view_module_version": "1.5.0",
      "_view_name": "HTMLView",
      "description": "",
      "description_tooltip": null,
      "layout": "IPY_MODEL_11697cf956034758be8ac487a0159d61",
      "placeholder": "​",
      "style": "IPY_MODEL_df2f2cd127a2406490a801cd9f23588c",
      "value": "Fetching 1 files: 100%"
     }
    },
    "7afc8b33a34e4ab6bbf6d56c25217852": {
     "model_module": "@jupyter-widgets/controls",
     "model_module_version": "1.5.0",
     "model_name": "HBoxModel",
     "state": {
      "_dom_classes": [],
      "_model_module": "@jupyter-widgets/controls",
      "_model_module_version": "1.5.0",
      "_model_name": "HBoxModel",
      "_view_count": null,
      "_view_module": "@jupyter-widgets/controls",
      "_view_module_version": "1.5.0",
      "_view_name": "HBoxView",
      "box_style": "",
      "children": [
       "IPY_MODEL_dd99499bb1974cb39ce6c58a610e8872",
       "IPY_MODEL_4f797f941b44426a9fa3785a104909ac",
       "IPY_MODEL_cdec13371910406db601d633fde977ef"
      ],
      "layout": "IPY_MODEL_3d5d245134bd4a378ea90c2031fb7e56"
     }
    },
    "8464934cb01a44fe981cd1ec0fa13930": {
     "model_module": "@jupyter-widgets/controls",
     "model_module_version": "1.5.0",
     "model_name": "HBoxModel",
     "state": {
      "_dom_classes": [],
      "_model_module": "@jupyter-widgets/controls",
      "_model_module_version": "1.5.0",
      "_model_name": "HBoxModel",
      "_view_count": null,
      "_view_module": "@jupyter-widgets/controls",
      "_view_module_version": "1.5.0",
      "_view_name": "HBoxView",
      "box_style": "",
      "children": [
       "IPY_MODEL_7341109d03b4466b92f8ee4c566a0c65",
       "IPY_MODEL_36c8472ba44b4efe8b47fabd2b0d6aef",
       "IPY_MODEL_f3da04ea8ea04abfb06db231197399df"
      ],
      "layout": "IPY_MODEL_f322faa7f47a4184821f6b4d84e31da5"
     }
    },
    "9ba58e385bd84f32a81fde53a9bec44c": {
     "model_module": "@jupyter-widgets/controls",
     "model_module_version": "1.5.0",
     "model_name": "HTMLModel",
     "state": {
      "_dom_classes": [],
      "_model_module": "@jupyter-widgets/controls",
      "_model_module_version": "1.5.0",
      "_model_name": "HTMLModel",
      "_view_count": null,
      "_view_module": "@jupyter-widgets/controls",
      "_view_module_version": "1.5.0",
      "_view_name": "HTMLView",
      "description": "",
      "description_tooltip": null,
      "layout": "IPY_MODEL_d6897b6731fe4282abe26905648f02d4",
      "placeholder": "​",
      "style": "IPY_MODEL_506bc8992e3d4e80af218745551df5b9",
      "value": "Fetching 1 files: 100%"
     }
    },
    "9d6e86c748c449c5adcf368a0473d96f": {
     "model_module": "@jupyter-widgets/base",
     "model_module_version": "1.2.0",
     "model_name": "LayoutModel",
     "state": {
      "_model_module": "@jupyter-widgets/base",
      "_model_module_version": "1.2.0",
      "_model_name": "LayoutModel",
      "_view_count": null,
      "_view_module": "@jupyter-widgets/base",
      "_view_module_version": "1.2.0",
      "_view_name": "LayoutView",
      "align_content": null,
      "align_items": null,
      "align_self": null,
      "border": null,
      "bottom": null,
      "display": null,
      "flex": null,
      "flex_flow": null,
      "grid_area": null,
      "grid_auto_columns": null,
      "grid_auto_flow": null,
      "grid_auto_rows": null,
      "grid_column": null,
      "grid_gap": null,
      "grid_row": null,
      "grid_template_areas": null,
      "grid_template_columns": null,
      "grid_template_rows": null,
      "height": null,
      "justify_content": null,
      "justify_items": null,
      "left": null,
      "margin": null,
      "max_height": null,
      "max_width": null,
      "min_height": null,
      "min_width": null,
      "object_fit": null,
      "object_position": null,
      "order": null,
      "overflow": null,
      "overflow_x": null,
      "overflow_y": null,
      "padding": null,
      "right": null,
      "top": null,
      "visibility": null,
      "width": null
     }
    },
    "aebb8325d6bd4fc2bbc9f983855eacb4": {
     "model_module": "@jupyter-widgets/base",
     "model_module_version": "1.2.0",
     "model_name": "LayoutModel",
     "state": {
      "_model_module": "@jupyter-widgets/base",
      "_model_module_version": "1.2.0",
      "_model_name": "LayoutModel",
      "_view_count": null,
      "_view_module": "@jupyter-widgets/base",
      "_view_module_version": "1.2.0",
      "_view_name": "LayoutView",
      "align_content": null,
      "align_items": null,
      "align_self": null,
      "border": null,
      "bottom": null,
      "display": null,
      "flex": null,
      "flex_flow": null,
      "grid_area": null,
      "grid_auto_columns": null,
      "grid_auto_flow": null,
      "grid_auto_rows": null,
      "grid_column": null,
      "grid_gap": null,
      "grid_row": null,
      "grid_template_areas": null,
      "grid_template_columns": null,
      "grid_template_rows": null,
      "height": null,
      "justify_content": null,
      "justify_items": null,
      "left": null,
      "margin": null,
      "max_height": null,
      "max_width": null,
      "min_height": null,
      "min_width": null,
      "object_fit": null,
      "object_position": null,
      "order": null,
      "overflow": null,
      "overflow_x": null,
      "overflow_y": null,
      "padding": null,
      "right": null,
      "top": null,
      "visibility": null,
      "width": null
     }
    },
    "c8160012b66d4e60b11cd9ecd9a802d9": {
     "model_module": "@jupyter-widgets/controls",
     "model_module_version": "1.5.0",
     "model_name": "DescriptionStyleModel",
     "state": {
      "_model_module": "@jupyter-widgets/controls",
      "_model_module_version": "1.5.0",
      "_model_name": "DescriptionStyleModel",
      "_view_count": null,
      "_view_module": "@jupyter-widgets/base",
      "_view_module_version": "1.2.0",
      "_view_name": "StyleView",
      "description_width": ""
     }
    },
    "cda00f5b7ac54ae7b0310639b611cbc2": {
     "model_module": "@jupyter-widgets/controls",
     "model_module_version": "1.5.0",
     "model_name": "FloatProgressModel",
     "state": {
      "_dom_classes": [],
      "_model_module": "@jupyter-widgets/controls",
      "_model_module_version": "1.5.0",
      "_model_name": "FloatProgressModel",
      "_view_count": null,
      "_view_module": "@jupyter-widgets/controls",
      "_view_module_version": "1.5.0",
      "_view_name": "ProgressView",
      "bar_style": "success",
      "description": "",
      "description_tooltip": null,
      "layout": "IPY_MODEL_5715866cf7954eefb1dd041a2d554d56",
      "max": 1,
      "min": 0,
      "orientation": "horizontal",
      "style": "IPY_MODEL_3e30614f105e421db830644e738d2dd3",
      "value": 1
     }
    },
    "cdec13371910406db601d633fde977ef": {
     "model_module": "@jupyter-widgets/controls",
     "model_module_version": "1.5.0",
     "model_name": "HTMLModel",
     "state": {
      "_dom_classes": [],
      "_model_module": "@jupyter-widgets/controls",
      "_model_module_version": "1.5.0",
      "_model_name": "HTMLModel",
      "_view_count": null,
      "_view_module": "@jupyter-widgets/controls",
      "_view_module_version": "1.5.0",
      "_view_name": "HTMLView",
      "description": "",
      "description_tooltip": null,
      "layout": "IPY_MODEL_5d2520cfa7484a10b9be1eb0016bd420",
      "placeholder": "​",
      "style": "IPY_MODEL_2394d0dce5964ab0acc8ed55bbdd92ca",
      "value": " 8.97G/8.97G [00:56&lt;00:00, 228MB/s]"
     }
    },
    "d6897b6731fe4282abe26905648f02d4": {
     "model_module": "@jupyter-widgets/base",
     "model_module_version": "1.2.0",
     "model_name": "LayoutModel",
     "state": {
      "_model_module": "@jupyter-widgets/base",
      "_model_module_version": "1.2.0",
      "_model_name": "LayoutModel",
      "_view_count": null,
      "_view_module": "@jupyter-widgets/base",
      "_view_module_version": "1.2.0",
      "_view_name": "LayoutView",
      "align_content": null,
      "align_items": null,
      "align_self": null,
      "border": null,
      "bottom": null,
      "display": null,
      "flex": null,
      "flex_flow": null,
      "grid_area": null,
      "grid_auto_columns": null,
      "grid_auto_flow": null,
      "grid_auto_rows": null,
      "grid_column": null,
      "grid_gap": null,
      "grid_row": null,
      "grid_template_areas": null,
      "grid_template_columns": null,
      "grid_template_rows": null,
      "height": null,
      "justify_content": null,
      "justify_items": null,
      "left": null,
      "margin": null,
      "max_height": null,
      "max_width": null,
      "min_height": null,
      "min_width": null,
      "object_fit": null,
      "object_position": null,
      "order": null,
      "overflow": null,
      "overflow_x": null,
      "overflow_y": null,
      "padding": null,
      "right": null,
      "top": null,
      "visibility": null,
      "width": null
     }
    },
    "dd99499bb1974cb39ce6c58a610e8872": {
     "model_module": "@jupyter-widgets/controls",
     "model_module_version": "1.5.0",
     "model_name": "HTMLModel",
     "state": {
      "_dom_classes": [],
      "_model_module": "@jupyter-widgets/controls",
      "_model_module_version": "1.5.0",
      "_model_name": "HTMLModel",
      "_view_count": null,
      "_view_module": "@jupyter-widgets/controls",
      "_view_module_version": "1.5.0",
      "_view_name": "HTMLView",
      "description": "",
      "description_tooltip": null,
      "layout": "IPY_MODEL_71180203082c4d2191539694de7ea752",
      "placeholder": "​",
      "style": "IPY_MODEL_54b8fcfbfc7b4fb68fe3c2d28d4ea835",
      "value": "llama-2-13b-chat.Q5_K_S.gguf: 100%"
     }
    },
    "df2f2cd127a2406490a801cd9f23588c": {
     "model_module": "@jupyter-widgets/controls",
     "model_module_version": "1.5.0",
     "model_name": "DescriptionStyleModel",
     "state": {
      "_model_module": "@jupyter-widgets/controls",
      "_model_module_version": "1.5.0",
      "_model_name": "DescriptionStyleModel",
      "_view_count": null,
      "_view_module": "@jupyter-widgets/base",
      "_view_module_version": "1.2.0",
      "_view_name": "StyleView",
      "description_width": ""
     }
    },
    "f322faa7f47a4184821f6b4d84e31da5": {
     "model_module": "@jupyter-widgets/base",
     "model_module_version": "1.2.0",
     "model_name": "LayoutModel",
     "state": {
      "_model_module": "@jupyter-widgets/base",
      "_model_module_version": "1.2.0",
      "_model_name": "LayoutModel",
      "_view_count": null,
      "_view_module": "@jupyter-widgets/base",
      "_view_module_version": "1.2.0",
      "_view_name": "LayoutView",
      "align_content": null,
      "align_items": null,
      "align_self": null,
      "border": null,
      "bottom": null,
      "display": null,
      "flex": null,
      "flex_flow": null,
      "grid_area": null,
      "grid_auto_columns": null,
      "grid_auto_flow": null,
      "grid_auto_rows": null,
      "grid_column": null,
      "grid_gap": null,
      "grid_row": null,
      "grid_template_areas": null,
      "grid_template_columns": null,
      "grid_template_rows": null,
      "height": null,
      "justify_content": null,
      "justify_items": null,
      "left": null,
      "margin": null,
      "max_height": null,
      "max_width": null,
      "min_height": null,
      "min_width": null,
      "object_fit": null,
      "object_position": null,
      "order": null,
      "overflow": null,
      "overflow_x": null,
      "overflow_y": null,
      "padding": null,
      "right": null,
      "top": null,
      "visibility": null,
      "width": null
     }
    },
    "f3da04ea8ea04abfb06db231197399df": {
     "model_module": "@jupyter-widgets/controls",
     "model_module_version": "1.5.0",
     "model_name": "HTMLModel",
     "state": {
      "_dom_classes": [],
      "_model_module": "@jupyter-widgets/controls",
      "_model_module_version": "1.5.0",
      "_model_name": "HTMLModel",
      "_view_count": null,
      "_view_module": "@jupyter-widgets/controls",
      "_view_module_version": "1.5.0",
      "_view_name": "HTMLView",
      "description": "",
      "description_tooltip": null,
      "layout": "IPY_MODEL_9d6e86c748c449c5adcf368a0473d96f",
      "placeholder": "​",
      "style": "IPY_MODEL_192a242670b34835a2818bab017d9d8f",
      "value": " 1/1 [00:56&lt;00:00, 56.84s/it]"
     }
    }
   }
  }
 },
 "nbformat": 4,
 "nbformat_minor": 1
}
